{
  "nbformat": 4,
  "nbformat_minor": 0,
  "metadata": {
    "colab": {
      "name": "sn_salary_forecast_2020.ipynb",
      "provenance": [],
      "collapsed_sections": [],
      "toc_visible": true,
      "include_colab_link": true
    },
    "kernelspec": {
      "name": "python3",
      "display_name": "Python 3"
    }
  },
  "cells": [
    {
      "cell_type": "markdown",
      "metadata": {
        "id": "view-in-github",
        "colab_type": "text"
      },
      "source": [
        "<a href=\"https://colab.research.google.com/github/codeteo/greekSalariesML/blob/main/sn_salary_forecast_2020.ipynb\" target=\"_parent\"><img src=\"https://colab.research.google.com/assets/colab-badge.svg\" alt=\"Open In Colab\"/></a>"
      ]
    },
    {
      "cell_type": "markdown",
      "metadata": {
        "id": "-mIRahNFikSC"
      },
      "source": [
        "# MIT License Notice\n",
        "\n",
        "Copyright 2020 Theodoros Ntakouris\n",
        "\n",
        "Permission is hereby granted, free of charge, to any person obtaining a copy of this software and associated documentation files (the \"Software\"), to deal in the Software without restriction, including without limitation the rights to use, copy, modify, merge, publish, distribute, sublicense, and/or sell copies of the Software, and to permit persons to whom the Software is furnished to do so, subject to the following conditions:\n",
        "\n",
        "The above copyright notice and this permission notice shall be included in all copies or substantial portions of the Software.\n",
        "\n",
        "THE SOFTWARE IS PROVIDED \"AS IS\", WITHOUT WARRANTY OF ANY KIND, EXPRESS OR IMPLIED, INCLUDING BUT NOT LIMITED TO THE WARRANTIES OF MERCHANTABILITY, FITNESS FOR A PARTICULAR PURPOSE AND NONINFRINGEMENT. IN NO EVENT SHALL THE AUTHORS OR COPYRIGHT HOLDERS BE LIABLE FOR ANY CLAIM, DAMAGES OR OTHER LIABILITY, WHETHER IN AN ACTION OF CONTRACT, TORT OR OTHERWISE, ARISING FROM, OUT OF OR IN CONNECTION WITH THE SOFTWARE OR THE USE OR OTHER DEALINGS IN THE SOFTWARE."
      ]
    },
    {
      "cell_type": "markdown",
      "metadata": {
        "id": "okOLZ4rEiska"
      },
      "source": [
        "# Dataset Notes\n",
        "\n",
        "This is a notebook that makes predictions for tech salary in Greece.\n",
        "\n",
        "More information about the origin and the contents of the dataset, on the Social Nerds video on youtube: https://www.youtube.com/watch?v=e-83bz4RhQ4&t=8s"
      ]
    },
    {
      "cell_type": "markdown",
      "metadata": {
        "id": "lTBUZ82Iihn3"
      },
      "source": [
        "# Required Imports"
      ]
    },
    {
      "cell_type": "code",
      "metadata": {
        "id": "wK1CObdETTu9"
      },
      "source": [
        "!pip install -q sklearn"
      ],
      "execution_count": null,
      "outputs": []
    },
    {
      "cell_type": "code",
      "metadata": {
        "id": "vJP_9YJeKt0Y"
      },
      "source": [
        "import pandas as pd\n",
        "import numpy as np\n",
        "import tensorflow as tf\n",
        "from tensorflow import feature_column\n",
        "from tensorflow.keras import layers\n",
        "from sklearn.model_selection import train_test_split\n",
        "from collections import Counter"
      ],
      "execution_count": null,
      "outputs": []
    },
    {
      "cell_type": "markdown",
      "metadata": {
        "id": "RhVTFrr_8jJ0"
      },
      "source": [
        "# Exploration and Data Prep"
      ]
    },
    {
      "cell_type": "code",
      "metadata": {
        "id": "UmqGrCRVh3vI"
      },
      "source": [
        "csv_url = 'https://gist.githubusercontent.com/ntakouris/a921107d4c2cc1566186c91971e2a664/raw/212e3bffd59d32a1f71df3585cb48fbeee734616/salary_report.csv'\n",
        "file_path = tf.keras.utils.get_file(\"salary_report\", csv_url)"
      ],
      "execution_count": null,
      "outputs": []
    },
    {
      "cell_type": "code",
      "metadata": {
        "id": "eK744FdB9To_",
        "outputId": "1d6f7444-d918-4776-d252-dcc16c15d413",
        "colab": {
          "base_uri": "https://localhost:8080/",
          "height": 126
        }
      },
      "source": [
        "df = pd.read_csv(file_path)\n",
        "df.columns = ['timestamp', 'years_experience', 'devtype', 'languages', 'company_size', 'remote', 'supervisor', 'personal_projects', 'city_residence', 'city_work', 'sex', 'salary']\n",
        "df = df.drop(columns=['timestamp'])\n",
        "print(len(df))\n",
        "df.head(2)"
      ],
      "execution_count": null,
      "outputs": [
        {
          "output_type": "stream",
          "text": [
            "573\n"
          ],
          "name": "stdout"
        },
        {
          "output_type": "execute_result",
          "data": {
            "text/html": [
              "<div>\n",
              "<style scoped>\n",
              "    .dataframe tbody tr th:only-of-type {\n",
              "        vertical-align: middle;\n",
              "    }\n",
              "\n",
              "    .dataframe tbody tr th {\n",
              "        vertical-align: top;\n",
              "    }\n",
              "\n",
              "    .dataframe thead th {\n",
              "        text-align: right;\n",
              "    }\n",
              "</style>\n",
              "<table border=\"1\" class=\"dataframe\">\n",
              "  <thead>\n",
              "    <tr style=\"text-align: right;\">\n",
              "      <th></th>\n",
              "      <th>years_experience</th>\n",
              "      <th>devtype</th>\n",
              "      <th>languages</th>\n",
              "      <th>company_size</th>\n",
              "      <th>remote</th>\n",
              "      <th>supervisor</th>\n",
              "      <th>personal_projects</th>\n",
              "      <th>city_residence</th>\n",
              "      <th>city_work</th>\n",
              "      <th>sex</th>\n",
              "      <th>salary</th>\n",
              "    </tr>\n",
              "  </thead>\n",
              "  <tbody>\n",
              "    <tr>\n",
              "      <th>0</th>\n",
              "      <td>4-5</td>\n",
              "      <td>DevOps, Backend, Frontend</td>\n",
              "      <td>C#, JavaScript</td>\n",
              "      <td>11-50</td>\n",
              "      <td>Και τα δύο</td>\n",
              "      <td>Όχι</td>\n",
              "      <td>Ναι</td>\n",
              "      <td>Αθήνα</td>\n",
              "      <td>Αθήνα</td>\n",
              "      <td>Άντρας</td>\n",
              "      <td>18200</td>\n",
              "    </tr>\n",
              "    <tr>\n",
              "      <th>1</th>\n",
              "      <td>1-3</td>\n",
              "      <td>Backend, Frontend</td>\n",
              "      <td>C#, JavaScript</td>\n",
              "      <td>11-50</td>\n",
              "      <td>Στον χώρο του εργοδότη</td>\n",
              "      <td>Όχι</td>\n",
              "      <td>Όχι</td>\n",
              "      <td>Δράμα</td>\n",
              "      <td>Καβάλα</td>\n",
              "      <td>Άντρας</td>\n",
              "      <td>13100</td>\n",
              "    </tr>\n",
              "  </tbody>\n",
              "</table>\n",
              "</div>"
            ],
            "text/plain": [
              "  years_experience                    devtype  ...     sex salary\n",
              "0              4-5  DevOps, Backend, Frontend  ...  Άντρας  18200\n",
              "1              1-3          Backend, Frontend  ...  Άντρας  13100\n",
              "\n",
              "[2 rows x 11 columns]"
            ]
          },
          "metadata": {
            "tags": []
          },
          "execution_count": 489
        }
      ]
    },
    {
      "cell_type": "code",
      "metadata": {
        "id": "a58VN-oR9ZrJ",
        "outputId": "efb63da4-31ab-4761-c4cb-110e0e68daca",
        "colab": {
          "base_uri": "https://localhost:8080/",
          "height": 54
        }
      },
      "source": [
        "print(pd.unique(df['years_experience']))\n",
        "df = df[df.years_experience != 'Δε δουλεύω ακόμα']\n",
        "len(df) # 15 who are not working"
      ],
      "execution_count": null,
      "outputs": [
        {
          "output_type": "stream",
          "text": [
            "['4-5' '1-3' '11+' '6-10' 'Δε δουλεύω ακόμα']\n"
          ],
          "name": "stdout"
        },
        {
          "output_type": "execute_result",
          "data": {
            "text/plain": [
              "557"
            ]
          },
          "metadata": {
            "tags": []
          },
          "execution_count": 490
        }
      ]
    },
    {
      "cell_type": "code",
      "metadata": {
        "id": "sZwGNFFC-UYU"
      },
      "source": [
        "UNK = 'unk'\n",
        "\n",
        "def categorize_clean_columns(df, colname, threshold):\n",
        "    df[colname] = df[colname].map(lambda x: x.replace(' ', '').split(','))\n",
        "    c = Counter([item for sublist in df[colname].values for item in sublist])\n",
        "\n",
        "    map_to_unk = set([el for el in c.elements() if c[el] <= threshold])\n",
        "\n",
        "    def map_devtype_unk(arr):\n",
        "      def x_or_unk(x):\n",
        "        if x in map_to_unk:\n",
        "          return UNK\n",
        "        return x\n",
        "\n",
        "      return [x_or_unk(x) for x in arr]\n",
        "\n",
        "    df[colname] = df[colname].map(lambda x: map_devtype_unk(x))\n",
        "\n",
        "    def is_sole_uknown(arr):\n",
        "      return arr[0] == UNK and len(arr) == 1\n",
        "\n",
        "    return df[df[colname].map(is_sole_uknown) == False]"
      ],
      "execution_count": null,
      "outputs": []
    },
    {
      "cell_type": "code",
      "metadata": {
        "id": "b_x56T0IB6Y-",
        "outputId": "2ee4746d-7f6c-4766-9fa6-04e7eb2d89e3",
        "colab": {
          "base_uri": "https://localhost:8080/",
          "height": 35
        }
      },
      "source": [
        "df = categorize_clean_columns(df, 'devtype', 6)\n",
        "df = categorize_clean_columns(df, 'languages', 6)\n",
        "\n",
        "len(df) # ~ 20 rows with few entries"
      ],
      "execution_count": null,
      "outputs": [
        {
          "output_type": "execute_result",
          "data": {
            "text/plain": [
              "538"
            ]
          },
          "metadata": {
            "tags": []
          },
          "execution_count": 492
        }
      ]
    },
    {
      "cell_type": "code",
      "metadata": {
        "id": "fPh5mRAhDSKG"
      },
      "source": [
        "def fix_salary(salary):\n",
        "    salary = salary.replace('.', '')\n",
        "    salary = salary.replace(',', '')\n",
        "    salary = salary.replace('€', '')\n",
        "    salary = int(salary)\n",
        "    if salary < 4000:\n",
        "      return salary * 14\n",
        "    \n",
        "    return salary\n",
        "\n",
        "df['salary'] = df['salary'].map(lambda x: fix_salary(x)).astype('float32')"
      ],
      "execution_count": null,
      "outputs": []
    },
    {
      "cell_type": "code",
      "metadata": {
        "id": "dMb62mcIJDNE",
        "outputId": "7d5bd665-a4cb-4e2a-c304-0dfcea496955",
        "colab": {
          "base_uri": "https://localhost:8080/",
          "height": 272
        }
      },
      "source": [
        "pd.unique(df['city_residence'].values), pd.unique(df['city_work'].values)"
      ],
      "execution_count": null,
      "outputs": [
        {
          "output_type": "execute_result",
          "data": {
            "text/plain": [
              "(array(['Αθήνα', 'Δράμα', 'ΠΕΙΡΑΙΑΣ', 'Ηράκλειο', 'Θεσσαλονίκη', 'Ρέθυμνο',\n",
              "        'Krakow', 'Λεμεσό', 'Amsterdam', 'Χανια', 'Σέρρες', 'London',\n",
              "        'Κοζανη', 'Πάτρα', 'Nuremberg', 'Glasgow', 'Berlin', 'Vienna',\n",
              "        'ΣΑΛΑΜΙΝΑ', 'Madrid', 'Καβάλα', 'Κάλυμνος', 'Κομοτηνή', 'Κύπρο',\n",
              "        'Oxford', 'Βόλος', 'Ξάνθη', 'Ιωάννινα', 'ΚΑΒΑΛΑ', 'Cologne',\n",
              "        'Λάρισα', 'Chios', 'Karlskrona', 'Κοζάνη', 'Malmö - Sweden',\n",
              "        'Munich', 'Stockholm', 'Τρίπολη'], dtype=object),\n",
              " array(['Αθήνα', 'Καβάλα', 'ΠΕΙΡΑΙΑΣ', 'Ηράκλειο', 'lisbon', 'Θεσσαλονίκη',\n",
              "        'Stuttgart', 'Αίγιο', 'δεν έχω συγκεκριμένη πολη', nan,\n",
              "        'Amsterdam', 'London', 'Πάτρα', 'Nuremberg', 'Glasgow', 'Berlin',\n",
              "        'Δράμα', 'Λευκωσια', 'Madrid', 'Κάλυμνος', 'San Francisco',\n",
              "        'Κομοτηνή', 'Λάρνακα', 'Oxford', 'Βόλος', 'Zurich', 'Ξάνθη',\n",
              "        'Ιωάννινα', 'ΚΑΒΑΛΑ', 'Miami', 'Chios', 'Stockholm', 'Κοζάνη',\n",
              "        'Cambridge', 'Munich'], dtype=object))"
            ]
          },
          "metadata": {
            "tags": []
          },
          "execution_count": 494
        }
      ]
    },
    {
      "cell_type": "code",
      "metadata": {
        "id": "yEo-669EJdrf",
        "outputId": "2607aab7-8f04-499c-e972-20dfdf788316",
        "colab": {
          "base_uri": "https://localhost:8080/",
          "height": 156
        }
      },
      "source": [
        "exclude_non_greek_cities = ['lisbon', 'Stuttgart', 'Cambridge','Miami','Zurich','San Francisco', 'Krakow', 'Amsterdam', 'Berlin', 'Vienna', 'Madrid', 'Glasgow',\n",
        "                            'Kalmar', 'Cologne', 'Nuremberg', 'Munich', 'Stockholm', 'Karlskrona',\n",
        "                            'Eindhoven', 'London', 'Malmö - Sweden', 'Bratislava', 'δεν έχω συγκεκριμένη πολη', 'Oxford']\n",
        "\n",
        "df = df[df['city_residence'].map(lambda x: x not in exclude_non_greek_cities)]\n",
        "df = df[df['city_work'].map(lambda x: x not in exclude_non_greek_cities)]\n",
        "print(len(df)) # ~ 30 who do not work on greece\n",
        "df.head(3)"
      ],
      "execution_count": null,
      "outputs": [
        {
          "output_type": "stream",
          "text": [
            "506\n"
          ],
          "name": "stdout"
        },
        {
          "output_type": "execute_result",
          "data": {
            "text/html": [
              "<div>\n",
              "<style scoped>\n",
              "    .dataframe tbody tr th:only-of-type {\n",
              "        vertical-align: middle;\n",
              "    }\n",
              "\n",
              "    .dataframe tbody tr th {\n",
              "        vertical-align: top;\n",
              "    }\n",
              "\n",
              "    .dataframe thead th {\n",
              "        text-align: right;\n",
              "    }\n",
              "</style>\n",
              "<table border=\"1\" class=\"dataframe\">\n",
              "  <thead>\n",
              "    <tr style=\"text-align: right;\">\n",
              "      <th></th>\n",
              "      <th>years_experience</th>\n",
              "      <th>devtype</th>\n",
              "      <th>languages</th>\n",
              "      <th>company_size</th>\n",
              "      <th>remote</th>\n",
              "      <th>supervisor</th>\n",
              "      <th>personal_projects</th>\n",
              "      <th>city_residence</th>\n",
              "      <th>city_work</th>\n",
              "      <th>sex</th>\n",
              "      <th>salary</th>\n",
              "    </tr>\n",
              "  </thead>\n",
              "  <tbody>\n",
              "    <tr>\n",
              "      <th>0</th>\n",
              "      <td>4-5</td>\n",
              "      <td>[DevOps, Backend, Frontend]</td>\n",
              "      <td>[C#, JavaScript]</td>\n",
              "      <td>11-50</td>\n",
              "      <td>Και τα δύο</td>\n",
              "      <td>Όχι</td>\n",
              "      <td>Ναι</td>\n",
              "      <td>Αθήνα</td>\n",
              "      <td>Αθήνα</td>\n",
              "      <td>Άντρας</td>\n",
              "      <td>18200.0</td>\n",
              "    </tr>\n",
              "    <tr>\n",
              "      <th>1</th>\n",
              "      <td>1-3</td>\n",
              "      <td>[Backend, Frontend]</td>\n",
              "      <td>[C#, JavaScript]</td>\n",
              "      <td>11-50</td>\n",
              "      <td>Στον χώρο του εργοδότη</td>\n",
              "      <td>Όχι</td>\n",
              "      <td>Όχι</td>\n",
              "      <td>Δράμα</td>\n",
              "      <td>Καβάλα</td>\n",
              "      <td>Άντρας</td>\n",
              "      <td>13100.0</td>\n",
              "    </tr>\n",
              "    <tr>\n",
              "      <th>3</th>\n",
              "      <td>11+</td>\n",
              "      <td>[Backend]</td>\n",
              "      <td>[Java, C#]</td>\n",
              "      <td>11-50</td>\n",
              "      <td>Και τα δύο</td>\n",
              "      <td>Ναι</td>\n",
              "      <td>Όχι</td>\n",
              "      <td>ΠΕΙΡΑΙΑΣ</td>\n",
              "      <td>ΠΕΙΡΑΙΑΣ</td>\n",
              "      <td>Άντρας</td>\n",
              "      <td>43500.0</td>\n",
              "    </tr>\n",
              "  </tbody>\n",
              "</table>\n",
              "</div>"
            ],
            "text/plain": [
              "  years_experience                      devtype  ...     sex   salary\n",
              "0              4-5  [DevOps, Backend, Frontend]  ...  Άντρας  18200.0\n",
              "1              1-3          [Backend, Frontend]  ...  Άντρας  13100.0\n",
              "3              11+                    [Backend]  ...  Άντρας  43500.0\n",
              "\n",
              "[3 rows x 11 columns]"
            ]
          },
          "metadata": {
            "tags": []
          },
          "execution_count": 495
        }
      ]
    },
    {
      "cell_type": "code",
      "metadata": {
        "id": "knbxHWonV3Xi"
      },
      "source": [
        "df = df.drop(columns=['city_residence', 'city_work'])"
      ],
      "execution_count": null,
      "outputs": []
    },
    {
      "cell_type": "code",
      "metadata": {
        "id": "MiS4HybOVxvo",
        "outputId": "bc3369d1-f097-42c1-c4b5-1db6f145479b",
        "colab": {
          "base_uri": "https://localhost:8080/",
          "height": 348
        }
      },
      "source": [
        "df_na = df[df.isna().any(axis=1)]\n",
        "df_na"
      ],
      "execution_count": null,
      "outputs": [
        {
          "output_type": "execute_result",
          "data": {
            "text/html": [
              "<div>\n",
              "<style scoped>\n",
              "    .dataframe tbody tr th:only-of-type {\n",
              "        vertical-align: middle;\n",
              "    }\n",
              "\n",
              "    .dataframe tbody tr th {\n",
              "        vertical-align: top;\n",
              "    }\n",
              "\n",
              "    .dataframe thead th {\n",
              "        text-align: right;\n",
              "    }\n",
              "</style>\n",
              "<table border=\"1\" class=\"dataframe\">\n",
              "  <thead>\n",
              "    <tr style=\"text-align: right;\">\n",
              "      <th></th>\n",
              "      <th>years_experience</th>\n",
              "      <th>devtype</th>\n",
              "      <th>languages</th>\n",
              "      <th>company_size</th>\n",
              "      <th>remote</th>\n",
              "      <th>supervisor</th>\n",
              "      <th>personal_projects</th>\n",
              "      <th>sex</th>\n",
              "      <th>salary</th>\n",
              "    </tr>\n",
              "  </thead>\n",
              "  <tbody>\n",
              "    <tr>\n",
              "      <th>160</th>\n",
              "      <td>4-5</td>\n",
              "      <td>[Backend]</td>\n",
              "      <td>[Java]</td>\n",
              "      <td>201-500</td>\n",
              "      <td>Και τα δύο</td>\n",
              "      <td>Όχι</td>\n",
              "      <td>NaN</td>\n",
              "      <td>NaN</td>\n",
              "      <td>21000.0</td>\n",
              "    </tr>\n",
              "    <tr>\n",
              "      <th>248</th>\n",
              "      <td>1-3</td>\n",
              "      <td>[Mobileapps]</td>\n",
              "      <td>[Java]</td>\n",
              "      <td>11-50</td>\n",
              "      <td>Στον χώρο του εργοδότη</td>\n",
              "      <td>Ναι</td>\n",
              "      <td>NaN</td>\n",
              "      <td>NaN</td>\n",
              "      <td>16000.0</td>\n",
              "    </tr>\n",
              "    <tr>\n",
              "      <th>266</th>\n",
              "      <td>1-3</td>\n",
              "      <td>[DevOps]</td>\n",
              "      <td>[Python, Ruby, Go, unk]</td>\n",
              "      <td>501+</td>\n",
              "      <td>Στον χώρο του εργοδότη</td>\n",
              "      <td>Όχι</td>\n",
              "      <td>Όχι</td>\n",
              "      <td>NaN</td>\n",
              "      <td>18500.0</td>\n",
              "    </tr>\n",
              "    <tr>\n",
              "      <th>431</th>\n",
              "      <td>4-5</td>\n",
              "      <td>[Backend]</td>\n",
              "      <td>[Java]</td>\n",
              "      <td>101-200</td>\n",
              "      <td>Στον χώρο του εργοδότη</td>\n",
              "      <td>Ναι</td>\n",
              "      <td>Όχι</td>\n",
              "      <td>NaN</td>\n",
              "      <td>22000.0</td>\n",
              "    </tr>\n",
              "    <tr>\n",
              "      <th>459</th>\n",
              "      <td>1-3</td>\n",
              "      <td>[Desktopapps]</td>\n",
              "      <td>[C#]</td>\n",
              "      <td>11-50</td>\n",
              "      <td>Στον χώρο του εργοδότη</td>\n",
              "      <td>Όχι</td>\n",
              "      <td>Ναι</td>\n",
              "      <td>NaN</td>\n",
              "      <td>13000.0</td>\n",
              "    </tr>\n",
              "    <tr>\n",
              "      <th>463</th>\n",
              "      <td>4-5</td>\n",
              "      <td>[Mobileapps]</td>\n",
              "      <td>[Kotlin]</td>\n",
              "      <td>201-500</td>\n",
              "      <td>Στον χώρο του εργοδότη</td>\n",
              "      <td>Όχι</td>\n",
              "      <td>Όχι</td>\n",
              "      <td>NaN</td>\n",
              "      <td>19700.0</td>\n",
              "    </tr>\n",
              "    <tr>\n",
              "      <th>484</th>\n",
              "      <td>11+</td>\n",
              "      <td>[DevOps, Backend, Desktopapps]</td>\n",
              "      <td>[Java, Python, Ruby, Bash]</td>\n",
              "      <td>11-50</td>\n",
              "      <td>Στον χώρο του εργοδότη</td>\n",
              "      <td>Ναι</td>\n",
              "      <td>Όχι</td>\n",
              "      <td>NaN</td>\n",
              "      <td>57000.0</td>\n",
              "    </tr>\n",
              "    <tr>\n",
              "      <th>530</th>\n",
              "      <td>6-10</td>\n",
              "      <td>[AI/ML]</td>\n",
              "      <td>[Java, Python, R, unk]</td>\n",
              "      <td>11-50</td>\n",
              "      <td>Στον χώρο του εργοδότη</td>\n",
              "      <td>Ναι</td>\n",
              "      <td>Όχι</td>\n",
              "      <td>NaN</td>\n",
              "      <td>38000.0</td>\n",
              "    </tr>\n",
              "    <tr>\n",
              "      <th>554</th>\n",
              "      <td>1-3</td>\n",
              "      <td>[Backend]</td>\n",
              "      <td>[JavaScript, PHP]</td>\n",
              "      <td>51-100</td>\n",
              "      <td>Απομακρυσμένα</td>\n",
              "      <td>Ναι</td>\n",
              "      <td>NaN</td>\n",
              "      <td>NaN</td>\n",
              "      <td>7724.0</td>\n",
              "    </tr>\n",
              "    <tr>\n",
              "      <th>566</th>\n",
              "      <td>1-3</td>\n",
              "      <td>[Backend, Frontend]</td>\n",
              "      <td>[JavaScript, PHP]</td>\n",
              "      <td>11-50</td>\n",
              "      <td>Στον χώρο του εργοδότη</td>\n",
              "      <td>Όχι</td>\n",
              "      <td>NaN</td>\n",
              "      <td>Άντρας</td>\n",
              "      <td>10800.0</td>\n",
              "    </tr>\n",
              "  </tbody>\n",
              "</table>\n",
              "</div>"
            ],
            "text/plain": [
              "    years_experience                         devtype  ...     sex   salary\n",
              "160              4-5                       [Backend]  ...     NaN  21000.0\n",
              "248              1-3                    [Mobileapps]  ...     NaN  16000.0\n",
              "266              1-3                        [DevOps]  ...     NaN  18500.0\n",
              "431              4-5                       [Backend]  ...     NaN  22000.0\n",
              "459              1-3                   [Desktopapps]  ...     NaN  13000.0\n",
              "463              4-5                    [Mobileapps]  ...     NaN  19700.0\n",
              "484              11+  [DevOps, Backend, Desktopapps]  ...     NaN  57000.0\n",
              "530             6-10                         [AI/ML]  ...     NaN  38000.0\n",
              "554              1-3                       [Backend]  ...     NaN   7724.0\n",
              "566              1-3             [Backend, Frontend]  ...  Άντρας  10800.0\n",
              "\n",
              "[10 rows x 9 columns]"
            ]
          },
          "metadata": {
            "tags": []
          },
          "execution_count": 497
        }
      ]
    },
    {
      "cell_type": "code",
      "metadata": {
        "id": "a3yQZzPUJ_F_",
        "outputId": "4359b1a6-f4d0-4841-8cc3-633fd4a78de7",
        "colab": {
          "base_uri": "https://localhost:8080/",
          "height": 48
        }
      },
      "source": [
        "df['personal_projects'] = df['personal_projects'].fillna('Όχι')\n",
        "df['sex'] = df['sex'].fillna('Άντρας')\n",
        "df_na = df[df.isna().any(axis=1)]\n",
        "df_na"
      ],
      "execution_count": null,
      "outputs": [
        {
          "output_type": "execute_result",
          "data": {
            "text/html": [
              "<div>\n",
              "<style scoped>\n",
              "    .dataframe tbody tr th:only-of-type {\n",
              "        vertical-align: middle;\n",
              "    }\n",
              "\n",
              "    .dataframe tbody tr th {\n",
              "        vertical-align: top;\n",
              "    }\n",
              "\n",
              "    .dataframe thead th {\n",
              "        text-align: right;\n",
              "    }\n",
              "</style>\n",
              "<table border=\"1\" class=\"dataframe\">\n",
              "  <thead>\n",
              "    <tr style=\"text-align: right;\">\n",
              "      <th></th>\n",
              "      <th>years_experience</th>\n",
              "      <th>devtype</th>\n",
              "      <th>languages</th>\n",
              "      <th>company_size</th>\n",
              "      <th>remote</th>\n",
              "      <th>supervisor</th>\n",
              "      <th>personal_projects</th>\n",
              "      <th>sex</th>\n",
              "      <th>salary</th>\n",
              "    </tr>\n",
              "  </thead>\n",
              "  <tbody>\n",
              "  </tbody>\n",
              "</table>\n",
              "</div>"
            ],
            "text/plain": [
              "Empty DataFrame\n",
              "Columns: [years_experience, devtype, languages, company_size, remote, supervisor, personal_projects, sex, salary]\n",
              "Index: []"
            ]
          },
          "metadata": {
            "tags": []
          },
          "execution_count": 498
        }
      ]
    },
    {
      "cell_type": "markdown",
      "metadata": {
        "id": "lYC02TIxK1j6"
      },
      "source": [
        "# To tensorflow"
      ]
    },
    {
      "cell_type": "code",
      "metadata": {
        "id": "k9sE1fNTMrqt"
      },
      "source": [
        "category_columns = ['years_experience', 'company_size', 'remote', 'supervisor', 'personal_projects', 'sex']\n",
        "\n",
        "for col in category_columns:\n",
        "    df[f'{col}_xf'] = df[col].astype('category')\n",
        "\n",
        "df = df.drop(columns=category_columns)"
      ],
      "execution_count": null,
      "outputs": []
    },
    {
      "cell_type": "code",
      "metadata": {
        "id": "50KycaRqPhrI",
        "outputId": "e7ca2e9b-b64d-466d-f134-a7f538cb2302",
        "colab": {
          "base_uri": "https://localhost:8080/",
          "height": 138
        }
      },
      "source": [
        "df.head(3)"
      ],
      "execution_count": null,
      "outputs": [
        {
          "output_type": "execute_result",
          "data": {
            "text/html": [
              "<div>\n",
              "<style scoped>\n",
              "    .dataframe tbody tr th:only-of-type {\n",
              "        vertical-align: middle;\n",
              "    }\n",
              "\n",
              "    .dataframe tbody tr th {\n",
              "        vertical-align: top;\n",
              "    }\n",
              "\n",
              "    .dataframe thead th {\n",
              "        text-align: right;\n",
              "    }\n",
              "</style>\n",
              "<table border=\"1\" class=\"dataframe\">\n",
              "  <thead>\n",
              "    <tr style=\"text-align: right;\">\n",
              "      <th></th>\n",
              "      <th>devtype</th>\n",
              "      <th>languages</th>\n",
              "      <th>salary</th>\n",
              "      <th>years_experience_xf</th>\n",
              "      <th>company_size_xf</th>\n",
              "      <th>remote_xf</th>\n",
              "      <th>supervisor_xf</th>\n",
              "      <th>personal_projects_xf</th>\n",
              "      <th>sex_xf</th>\n",
              "    </tr>\n",
              "  </thead>\n",
              "  <tbody>\n",
              "    <tr>\n",
              "      <th>0</th>\n",
              "      <td>[DevOps, Backend, Frontend]</td>\n",
              "      <td>[C#, JavaScript]</td>\n",
              "      <td>18200.0</td>\n",
              "      <td>4-5</td>\n",
              "      <td>11-50</td>\n",
              "      <td>Και τα δύο</td>\n",
              "      <td>Όχι</td>\n",
              "      <td>Ναι</td>\n",
              "      <td>Άντρας</td>\n",
              "    </tr>\n",
              "    <tr>\n",
              "      <th>1</th>\n",
              "      <td>[Backend, Frontend]</td>\n",
              "      <td>[C#, JavaScript]</td>\n",
              "      <td>13100.0</td>\n",
              "      <td>1-3</td>\n",
              "      <td>11-50</td>\n",
              "      <td>Στον χώρο του εργοδότη</td>\n",
              "      <td>Όχι</td>\n",
              "      <td>Όχι</td>\n",
              "      <td>Άντρας</td>\n",
              "    </tr>\n",
              "    <tr>\n",
              "      <th>3</th>\n",
              "      <td>[Backend]</td>\n",
              "      <td>[Java, C#]</td>\n",
              "      <td>43500.0</td>\n",
              "      <td>11+</td>\n",
              "      <td>11-50</td>\n",
              "      <td>Και τα δύο</td>\n",
              "      <td>Ναι</td>\n",
              "      <td>Όχι</td>\n",
              "      <td>Άντρας</td>\n",
              "    </tr>\n",
              "  </tbody>\n",
              "</table>\n",
              "</div>"
            ],
            "text/plain": [
              "                       devtype         languages  ...  personal_projects_xf  sex_xf\n",
              "0  [DevOps, Backend, Frontend]  [C#, JavaScript]  ...                   Ναι  Άντρας\n",
              "1          [Backend, Frontend]  [C#, JavaScript]  ...                   Όχι  Άντρας\n",
              "3                    [Backend]        [Java, C#]  ...                   Όχι  Άντρας\n",
              "\n",
              "[3 rows x 9 columns]"
            ]
          },
          "metadata": {
            "tags": []
          },
          "execution_count": 500
        }
      ]
    },
    {
      "cell_type": "code",
      "metadata": {
        "id": "kHe9cFa9M-7b",
        "outputId": "13dee598-2e8f-402a-9270-c36309dc7117",
        "colab": {
          "base_uri": "https://localhost:8080/",
          "height": 54
        }
      },
      "source": [
        "multi_category_columns = ['devtype', 'languages']\n",
        "\n",
        "def coltitle(col, word):\n",
        "    return f'{col}_{word}'\n",
        "\n",
        "for col in multi_category_columns:\n",
        "    vocab = set([item for sublist in df[col].values for item in sublist])\n",
        "    for word in vocab:\n",
        "        df[coltitle(col, word)] = 0\n",
        "        df[coltitle(col, word)] = df[coltitle(col, word)].astype('int32')\n",
        "    print(vocab)"
      ],
      "execution_count": null,
      "outputs": [
        {
          "output_type": "stream",
          "text": [
            "{'Backend', 'Desktopapps', 'DevOps', 'AI/ML', 'unk', 'Frontend', 'Mobileapps'}\n",
            "{'C', 'PHP', 'JavaScript', 'Kotlin', 'Python', 'Ruby', 'C++', 'unk', 'Bash', 'Go', 'Java', 'Swift', 'VisualBasic.NET', 'R', 'C#'}\n"
          ],
          "name": "stdout"
        }
      ]
    },
    {
      "cell_type": "code",
      "metadata": {
        "id": "Qy0NK_VvXVsS",
        "outputId": "36db8971-567b-42d8-831a-a7ef420441a1",
        "colab": {
          "base_uri": "https://localhost:8080/",
          "height": 193
        }
      },
      "source": [
        "for index, row in df.iterrows():\n",
        "    for col in multi_category_columns:\n",
        "        words = row[col]\n",
        "        for word in words:\n",
        "            df.loc[index, coltitle(col, word)] = 1\n",
        "\n",
        "bad_tf_scope_names = [('languages_C#', 'languages_Csharp'), ('languages_VisualBasic.NET', 'languages_VisualBasicNET'), ('languages_C++', 'languages_Cpp')]\n",
        "for before, after in bad_tf_scope_names:\n",
        "    df[after] = df[before]\n",
        "    df = df.drop(columns=[before])\n",
        "\n",
        "df = df.drop(columns=multi_category_columns)\n",
        "df.head(3)"
      ],
      "execution_count": null,
      "outputs": [
        {
          "output_type": "execute_result",
          "data": {
            "text/html": [
              "<div>\n",
              "<style scoped>\n",
              "    .dataframe tbody tr th:only-of-type {\n",
              "        vertical-align: middle;\n",
              "    }\n",
              "\n",
              "    .dataframe tbody tr th {\n",
              "        vertical-align: top;\n",
              "    }\n",
              "\n",
              "    .dataframe thead th {\n",
              "        text-align: right;\n",
              "    }\n",
              "</style>\n",
              "<table border=\"1\" class=\"dataframe\">\n",
              "  <thead>\n",
              "    <tr style=\"text-align: right;\">\n",
              "      <th></th>\n",
              "      <th>salary</th>\n",
              "      <th>years_experience_xf</th>\n",
              "      <th>company_size_xf</th>\n",
              "      <th>remote_xf</th>\n",
              "      <th>supervisor_xf</th>\n",
              "      <th>personal_projects_xf</th>\n",
              "      <th>sex_xf</th>\n",
              "      <th>devtype_Backend</th>\n",
              "      <th>devtype_Desktopapps</th>\n",
              "      <th>devtype_DevOps</th>\n",
              "      <th>devtype_AI/ML</th>\n",
              "      <th>devtype_unk</th>\n",
              "      <th>devtype_Frontend</th>\n",
              "      <th>devtype_Mobileapps</th>\n",
              "      <th>languages_C</th>\n",
              "      <th>languages_PHP</th>\n",
              "      <th>languages_JavaScript</th>\n",
              "      <th>languages_Kotlin</th>\n",
              "      <th>languages_Python</th>\n",
              "      <th>languages_Ruby</th>\n",
              "      <th>languages_unk</th>\n",
              "      <th>languages_Bash</th>\n",
              "      <th>languages_Go</th>\n",
              "      <th>languages_Java</th>\n",
              "      <th>languages_Swift</th>\n",
              "      <th>languages_R</th>\n",
              "      <th>languages_Csharp</th>\n",
              "      <th>languages_VisualBasicNET</th>\n",
              "      <th>languages_Cpp</th>\n",
              "    </tr>\n",
              "  </thead>\n",
              "  <tbody>\n",
              "    <tr>\n",
              "      <th>0</th>\n",
              "      <td>18200.0</td>\n",
              "      <td>4-5</td>\n",
              "      <td>11-50</td>\n",
              "      <td>Και τα δύο</td>\n",
              "      <td>Όχι</td>\n",
              "      <td>Ναι</td>\n",
              "      <td>Άντρας</td>\n",
              "      <td>1</td>\n",
              "      <td>0</td>\n",
              "      <td>1</td>\n",
              "      <td>0</td>\n",
              "      <td>0</td>\n",
              "      <td>1</td>\n",
              "      <td>0</td>\n",
              "      <td>0</td>\n",
              "      <td>0</td>\n",
              "      <td>1</td>\n",
              "      <td>0</td>\n",
              "      <td>0</td>\n",
              "      <td>0</td>\n",
              "      <td>0</td>\n",
              "      <td>0</td>\n",
              "      <td>0</td>\n",
              "      <td>0</td>\n",
              "      <td>0</td>\n",
              "      <td>0</td>\n",
              "      <td>1</td>\n",
              "      <td>0</td>\n",
              "      <td>0</td>\n",
              "    </tr>\n",
              "    <tr>\n",
              "      <th>1</th>\n",
              "      <td>13100.0</td>\n",
              "      <td>1-3</td>\n",
              "      <td>11-50</td>\n",
              "      <td>Στον χώρο του εργοδότη</td>\n",
              "      <td>Όχι</td>\n",
              "      <td>Όχι</td>\n",
              "      <td>Άντρας</td>\n",
              "      <td>1</td>\n",
              "      <td>0</td>\n",
              "      <td>0</td>\n",
              "      <td>0</td>\n",
              "      <td>0</td>\n",
              "      <td>1</td>\n",
              "      <td>0</td>\n",
              "      <td>0</td>\n",
              "      <td>0</td>\n",
              "      <td>1</td>\n",
              "      <td>0</td>\n",
              "      <td>0</td>\n",
              "      <td>0</td>\n",
              "      <td>0</td>\n",
              "      <td>0</td>\n",
              "      <td>0</td>\n",
              "      <td>0</td>\n",
              "      <td>0</td>\n",
              "      <td>0</td>\n",
              "      <td>1</td>\n",
              "      <td>0</td>\n",
              "      <td>0</td>\n",
              "    </tr>\n",
              "    <tr>\n",
              "      <th>3</th>\n",
              "      <td>43500.0</td>\n",
              "      <td>11+</td>\n",
              "      <td>11-50</td>\n",
              "      <td>Και τα δύο</td>\n",
              "      <td>Ναι</td>\n",
              "      <td>Όχι</td>\n",
              "      <td>Άντρας</td>\n",
              "      <td>1</td>\n",
              "      <td>0</td>\n",
              "      <td>0</td>\n",
              "      <td>0</td>\n",
              "      <td>0</td>\n",
              "      <td>0</td>\n",
              "      <td>0</td>\n",
              "      <td>0</td>\n",
              "      <td>0</td>\n",
              "      <td>0</td>\n",
              "      <td>0</td>\n",
              "      <td>0</td>\n",
              "      <td>0</td>\n",
              "      <td>0</td>\n",
              "      <td>0</td>\n",
              "      <td>0</td>\n",
              "      <td>1</td>\n",
              "      <td>0</td>\n",
              "      <td>0</td>\n",
              "      <td>1</td>\n",
              "      <td>0</td>\n",
              "      <td>0</td>\n",
              "    </tr>\n",
              "  </tbody>\n",
              "</table>\n",
              "</div>"
            ],
            "text/plain": [
              "    salary years_experience_xf  ... languages_VisualBasicNET languages_Cpp\n",
              "0  18200.0                 4-5  ...                        0             0\n",
              "1  13100.0                 1-3  ...                        0             0\n",
              "3  43500.0                 11+  ...                        0             0\n",
              "\n",
              "[3 rows x 29 columns]"
            ]
          },
          "metadata": {
            "tags": []
          },
          "execution_count": 502
        }
      ]
    },
    {
      "cell_type": "code",
      "metadata": {
        "id": "OUW1szeDO0PR",
        "outputId": "303056a3-5296-4655-bf45-f4c972ce01ad",
        "colab": {
          "base_uri": "https://localhost:8080/",
          "height": 563
        }
      },
      "source": [
        "df.dtypes"
      ],
      "execution_count": null,
      "outputs": [
        {
          "output_type": "execute_result",
          "data": {
            "text/plain": [
              "salary                       float32\n",
              "years_experience_xf         category\n",
              "company_size_xf             category\n",
              "remote_xf                   category\n",
              "supervisor_xf               category\n",
              "personal_projects_xf        category\n",
              "sex_xf                      category\n",
              "devtype_Backend                int32\n",
              "devtype_Desktopapps            int32\n",
              "devtype_DevOps                 int32\n",
              "devtype_AI/ML                  int32\n",
              "devtype_unk                    int32\n",
              "devtype_Frontend               int32\n",
              "devtype_Mobileapps             int32\n",
              "languages_C                    int32\n",
              "languages_PHP                  int32\n",
              "languages_JavaScript           int32\n",
              "languages_Kotlin               int32\n",
              "languages_Python               int32\n",
              "languages_Ruby                 int32\n",
              "languages_unk                  int32\n",
              "languages_Bash                 int32\n",
              "languages_Go                   int32\n",
              "languages_Java                 int32\n",
              "languages_Swift                int32\n",
              "languages_R                    int32\n",
              "languages_Csharp               int32\n",
              "languages_VisualBasicNET       int32\n",
              "languages_Cpp                  int32\n",
              "dtype: object"
            ]
          },
          "metadata": {
            "tags": []
          },
          "execution_count": 503
        }
      ]
    },
    {
      "cell_type": "code",
      "metadata": {
        "id": "TSH8L9axPUV6",
        "outputId": "27886848-af45-47fc-cb07-83f7328d95db",
        "colab": {
          "base_uri": "https://localhost:8080/",
          "height": 72
        }
      },
      "source": [
        "df.values[0], len(df)"
      ],
      "execution_count": null,
      "outputs": [
        {
          "output_type": "execute_result",
          "data": {
            "text/plain": [
              "(array([18200.0, '4-5', '11-50', 'Και τα δύο', 'Όχι', 'Ναι', 'Άντρας', 1,\n",
              "        0, 1, 0, 0, 1, 0, 0, 0, 1, 0, 0, 0, 0, 0, 0, 0, 0, 0, 1, 0, 0],\n",
              "       dtype=object), 506)"
            ]
          },
          "metadata": {
            "tags": []
          },
          "execution_count": 504
        }
      ]
    },
    {
      "cell_type": "code",
      "metadata": {
        "id": "2Ed9DK6NLgYH",
        "outputId": "94500473-fd1a-4c1c-9e3f-39cdae94a21d",
        "colab": {
          "base_uri": "https://localhost:8080/",
          "height": 54
        }
      },
      "source": [
        "train, val = train_test_split(df, test_size=0.2)\n",
        "print(len(train), 'train examples')\n",
        "print(len(val), 'validation examples')"
      ],
      "execution_count": null,
      "outputs": [
        {
          "output_type": "stream",
          "text": [
            "404 train examples\n",
            "102 validation examples\n"
          ],
          "name": "stdout"
        }
      ]
    },
    {
      "cell_type": "code",
      "metadata": {
        "id": "uS4i45azWmEp"
      },
      "source": [
        "def df_to_dataset(dataframe, shuffle=True, batch_size=32):\n",
        "    dataframe = dataframe.copy()\n",
        "    labels = dataframe.pop('salary')\n",
        "    ds = tf.data.Dataset.from_tensor_slices((dict(dataframe), labels))\n",
        "    if shuffle:\n",
        "      ds = ds.shuffle(buffer_size=len(dataframe))\n",
        "    ds = ds.batch(batch_size)\n",
        "    return ds\n",
        "\n",
        "train_ds = df_to_dataset(train, batch_size=32)\n",
        "eval_ds = df_to_dataset(train, batch_size=32, shuffle=True)"
      ],
      "execution_count": null,
      "outputs": []
    },
    {
      "cell_type": "code",
      "metadata": {
        "id": "oHBcpVwFPMhX",
        "outputId": "e13dc942-006a-4699-e325-4e1824c62f5e",
        "colab": {
          "base_uri": "https://localhost:8080/",
          "height": 55
        }
      },
      "source": [
        "for feature_batch, label_batch in train_ds.take(1):\n",
        "  feature_column_keys = list(feature_batch.keys())\n",
        "  print('Every feature:', feature_column_keys)"
      ],
      "execution_count": null,
      "outputs": [
        {
          "output_type": "stream",
          "text": [
            "Every feature: ['years_experience_xf', 'company_size_xf', 'remote_xf', 'supervisor_xf', 'personal_projects_xf', 'sex_xf', 'devtype_Backend', 'devtype_Desktopapps', 'devtype_DevOps', 'devtype_AI/ML', 'devtype_unk', 'devtype_Frontend', 'devtype_Mobileapps', 'languages_C', 'languages_PHP', 'languages_JavaScript', 'languages_Kotlin', 'languages_Python', 'languages_Ruby', 'languages_unk', 'languages_Bash', 'languages_Go', 'languages_Java', 'languages_Swift', 'languages_R', 'languages_Csharp', 'languages_VisualBasicNET', 'languages_Cpp']\n"
          ],
          "name": "stdout"
        }
      ]
    },
    {
      "cell_type": "code",
      "metadata": {
        "id": "QBwKM0CjULPy"
      },
      "source": [
        "feature_columns = []\n",
        "\n",
        "numeric_features = [x for x in feature_column_keys if ('devtype_' in x or 'languages_' in x)]\n",
        "categorical_features = [x for x in feature_column_keys if '_xf' in x]\n",
        "\n",
        "for feature in numeric_features:\n",
        "    feature_columns.append(feature_column.numeric_column(feature))\n",
        "\n",
        "for feature in categorical_features:\n",
        "    categorical_column = feature_column.categorical_column_with_vocabulary_list(\n",
        "      feature, pd.unique(df[feature].values))\n",
        "\n",
        "    feature_columns.append(feature_column.indicator_column(categorical_column))"
      ],
      "execution_count": null,
      "outputs": []
    },
    {
      "cell_type": "code",
      "metadata": {
        "id": "_RbB_gCYULhQ",
        "outputId": "2eb2053a-7522-4e0c-cd5f-822e8da3d2a2",
        "colab": {
          "base_uri": "https://localhost:8080/",
          "height": 655
        }
      },
      "source": [
        "feature_layer = tf.keras.layers.DenseFeatures(feature_columns)\n",
        "\n",
        "model = tf.keras.Sequential([\n",
        "  feature_layer,\n",
        "  layers.Dense(8, activation='relu'),  \n",
        "  layers.Dense(1)\n",
        "])\n",
        "\n",
        "model.compile(optimizer=tf.keras.optimizers.SGD(momentum=0.9),\n",
        "              loss='mae',\n",
        "              metrics=['mae'])\n",
        "\n",
        "callbacks = [\n",
        "    tf.keras.callbacks.EarlyStopping(patience=2),\n",
        "    tf.keras.callbacks.ModelCheckpoint(filepath='model.{epoch:02d}-{val_loss:.2f}.h5'),\n",
        "    tf.keras.callbacks.TensorBoard(log_dir='./logs'),\n",
        "]\n",
        "\n",
        "model.fit(train_ds,\n",
        "          validation_data=eval_ds,\n",
        "          epochs=50,\n",
        "          callbacks=callbacks)"
      ],
      "execution_count": null,
      "outputs": [
        {
          "output_type": "stream",
          "text": [
            "Epoch 1/50\n",
            "WARNING:tensorflow:Layers in a Sequential model should only have a single input tensor, but we receive a <class 'dict'> input: {'years_experience_xf': <tf.Tensor 'ExpandDims_27:0' shape=(None, 1) dtype=string>, 'company_size_xf': <tf.Tensor 'ExpandDims:0' shape=(None, 1) dtype=string>, 'remote_xf': <tf.Tensor 'ExpandDims_24:0' shape=(None, 1) dtype=string>, 'supervisor_xf': <tf.Tensor 'ExpandDims_26:0' shape=(None, 1) dtype=string>, 'personal_projects_xf': <tf.Tensor 'ExpandDims_23:0' shape=(None, 1) dtype=string>, 'sex_xf': <tf.Tensor 'ExpandDims_25:0' shape=(None, 1) dtype=string>, 'devtype_Backend': <tf.Tensor 'ExpandDims_2:0' shape=(None, 1) dtype=int32>, 'devtype_Desktopapps': <tf.Tensor 'ExpandDims_3:0' shape=(None, 1) dtype=int32>, 'devtype_DevOps': <tf.Tensor 'ExpandDims_4:0' shape=(None, 1) dtype=int32>, 'devtype_AI/ML': <tf.Tensor 'ExpandDims_1:0' shape=(None, 1) dtype=int32>, 'devtype_unk': <tf.Tensor 'ExpandDims_7:0' shape=(None, 1) dtype=int32>, 'devtype_Frontend': <tf.Tensor 'ExpandDims_5:0' shape=(None, 1) dtype=int32>, 'devtype_Mobileapps': <tf.Tensor 'ExpandDims_6:0' shape=(None, 1) dtype=int32>, 'languages_C': <tf.Tensor 'ExpandDims_9:0' shape=(None, 1) dtype=int32>, 'languages_PHP': <tf.Tensor 'ExpandDims_16:0' shape=(None, 1) dtype=int32>, 'languages_JavaScript': <tf.Tensor 'ExpandDims_14:0' shape=(None, 1) dtype=int32>, 'languages_Kotlin': <tf.Tensor 'ExpandDims_15:0' shape=(None, 1) dtype=int32>, 'languages_Python': <tf.Tensor 'ExpandDims_17:0' shape=(None, 1) dtype=int32>, 'languages_Ruby': <tf.Tensor 'ExpandDims_19:0' shape=(None, 1) dtype=int32>, 'languages_unk': <tf.Tensor 'ExpandDims_22:0' shape=(None, 1) dtype=int32>, 'languages_Bash': <tf.Tensor 'ExpandDims_8:0' shape=(None, 1) dtype=int32>, 'languages_Go': <tf.Tensor 'ExpandDims_12:0' shape=(None, 1) dtype=int32>, 'languages_Java': <tf.Tensor 'ExpandDims_13:0' shape=(None, 1) dtype=int32>, 'languages_Swift': <tf.Tensor 'ExpandDims_20:0' shape=(None, 1) dtype=int32>, 'languages_R': <tf.Tensor 'ExpandDims_18:0' shape=(None, 1) dtype=int32>, 'languages_Csharp': <tf.Tensor 'ExpandDims_11:0' shape=(None, 1) dtype=int32>, 'languages_VisualBasicNET': <tf.Tensor 'ExpandDims_21:0' shape=(None, 1) dtype=int32>, 'languages_Cpp': <tf.Tensor 'ExpandDims_10:0' shape=(None, 1) dtype=int32>}\n",
            "Consider rewriting this model with the Functional API.\n",
            "WARNING:tensorflow:Layers in a Sequential model should only have a single input tensor, but we receive a <class 'dict'> input: {'years_experience_xf': <tf.Tensor 'ExpandDims_27:0' shape=(None, 1) dtype=string>, 'company_size_xf': <tf.Tensor 'ExpandDims:0' shape=(None, 1) dtype=string>, 'remote_xf': <tf.Tensor 'ExpandDims_24:0' shape=(None, 1) dtype=string>, 'supervisor_xf': <tf.Tensor 'ExpandDims_26:0' shape=(None, 1) dtype=string>, 'personal_projects_xf': <tf.Tensor 'ExpandDims_23:0' shape=(None, 1) dtype=string>, 'sex_xf': <tf.Tensor 'ExpandDims_25:0' shape=(None, 1) dtype=string>, 'devtype_Backend': <tf.Tensor 'ExpandDims_2:0' shape=(None, 1) dtype=int32>, 'devtype_Desktopapps': <tf.Tensor 'ExpandDims_3:0' shape=(None, 1) dtype=int32>, 'devtype_DevOps': <tf.Tensor 'ExpandDims_4:0' shape=(None, 1) dtype=int32>, 'devtype_AI/ML': <tf.Tensor 'ExpandDims_1:0' shape=(None, 1) dtype=int32>, 'devtype_unk': <tf.Tensor 'ExpandDims_7:0' shape=(None, 1) dtype=int32>, 'devtype_Frontend': <tf.Tensor 'ExpandDims_5:0' shape=(None, 1) dtype=int32>, 'devtype_Mobileapps': <tf.Tensor 'ExpandDims_6:0' shape=(None, 1) dtype=int32>, 'languages_C': <tf.Tensor 'ExpandDims_9:0' shape=(None, 1) dtype=int32>, 'languages_PHP': <tf.Tensor 'ExpandDims_16:0' shape=(None, 1) dtype=int32>, 'languages_JavaScript': <tf.Tensor 'ExpandDims_14:0' shape=(None, 1) dtype=int32>, 'languages_Kotlin': <tf.Tensor 'ExpandDims_15:0' shape=(None, 1) dtype=int32>, 'languages_Python': <tf.Tensor 'ExpandDims_17:0' shape=(None, 1) dtype=int32>, 'languages_Ruby': <tf.Tensor 'ExpandDims_19:0' shape=(None, 1) dtype=int32>, 'languages_unk': <tf.Tensor 'ExpandDims_22:0' shape=(None, 1) dtype=int32>, 'languages_Bash': <tf.Tensor 'ExpandDims_8:0' shape=(None, 1) dtype=int32>, 'languages_Go': <tf.Tensor 'ExpandDims_12:0' shape=(None, 1) dtype=int32>, 'languages_Java': <tf.Tensor 'ExpandDims_13:0' shape=(None, 1) dtype=int32>, 'languages_Swift': <tf.Tensor 'ExpandDims_20:0' shape=(None, 1) dtype=int32>, 'languages_R': <tf.Tensor 'ExpandDims_18:0' shape=(None, 1) dtype=int32>, 'languages_Csharp': <tf.Tensor 'ExpandDims_11:0' shape=(None, 1) dtype=int32>, 'languages_VisualBasicNET': <tf.Tensor 'ExpandDims_21:0' shape=(None, 1) dtype=int32>, 'languages_Cpp': <tf.Tensor 'ExpandDims_10:0' shape=(None, 1) dtype=int32>}\n",
            "Consider rewriting this model with the Functional API.\n",
            " 2/13 [===>..........................] - ETA: 0s - loss: 18187.3770 - mae: 18187.3770WARNING:tensorflow:Callbacks method `on_train_batch_end` is slow compared to the batch time (batch time: 0.0053s vs `on_train_batch_end` time: 0.0817s). Check your callbacks.\n",
            "WARNING:tensorflow:Layers in a Sequential model should only have a single input tensor, but we receive a <class 'dict'> input: {'years_experience_xf': <tf.Tensor 'ExpandDims_27:0' shape=(None, 1) dtype=string>, 'company_size_xf': <tf.Tensor 'ExpandDims:0' shape=(None, 1) dtype=string>, 'remote_xf': <tf.Tensor 'ExpandDims_24:0' shape=(None, 1) dtype=string>, 'supervisor_xf': <tf.Tensor 'ExpandDims_26:0' shape=(None, 1) dtype=string>, 'personal_projects_xf': <tf.Tensor 'ExpandDims_23:0' shape=(None, 1) dtype=string>, 'sex_xf': <tf.Tensor 'ExpandDims_25:0' shape=(None, 1) dtype=string>, 'devtype_Backend': <tf.Tensor 'ExpandDims_2:0' shape=(None, 1) dtype=int32>, 'devtype_Desktopapps': <tf.Tensor 'ExpandDims_3:0' shape=(None, 1) dtype=int32>, 'devtype_DevOps': <tf.Tensor 'ExpandDims_4:0' shape=(None, 1) dtype=int32>, 'devtype_AI/ML': <tf.Tensor 'ExpandDims_1:0' shape=(None, 1) dtype=int32>, 'devtype_unk': <tf.Tensor 'ExpandDims_7:0' shape=(None, 1) dtype=int32>, 'devtype_Frontend': <tf.Tensor 'ExpandDims_5:0' shape=(None, 1) dtype=int32>, 'devtype_Mobileapps': <tf.Tensor 'ExpandDims_6:0' shape=(None, 1) dtype=int32>, 'languages_C': <tf.Tensor 'ExpandDims_9:0' shape=(None, 1) dtype=int32>, 'languages_PHP': <tf.Tensor 'ExpandDims_16:0' shape=(None, 1) dtype=int32>, 'languages_JavaScript': <tf.Tensor 'ExpandDims_14:0' shape=(None, 1) dtype=int32>, 'languages_Kotlin': <tf.Tensor 'ExpandDims_15:0' shape=(None, 1) dtype=int32>, 'languages_Python': <tf.Tensor 'ExpandDims_17:0' shape=(None, 1) dtype=int32>, 'languages_Ruby': <tf.Tensor 'ExpandDims_19:0' shape=(None, 1) dtype=int32>, 'languages_unk': <tf.Tensor 'ExpandDims_22:0' shape=(None, 1) dtype=int32>, 'languages_Bash': <tf.Tensor 'ExpandDims_8:0' shape=(None, 1) dtype=int32>, 'languages_Go': <tf.Tensor 'ExpandDims_12:0' shape=(None, 1) dtype=int32>, 'languages_Java': <tf.Tensor 'ExpandDims_13:0' shape=(None, 1) dtype=int32>, 'languages_Swift': <tf.Tensor 'ExpandDims_20:0' shape=(None, 1) dtype=int32>, 'languages_R': <tf.Tensor 'ExpandDims_18:0' shape=(None, 1) dtype=int32>, 'languages_Csharp': <tf.Tensor 'ExpandDims_11:0' shape=(None, 1) dtype=int32>, 'languages_VisualBasicNET': <tf.Tensor 'ExpandDims_21:0' shape=(None, 1) dtype=int32>, 'languages_Cpp': <tf.Tensor 'ExpandDims_10:0' shape=(None, 1) dtype=int32>}\n",
            "Consider rewriting this model with the Functional API.\n",
            "13/13 [==============================] - 1s 43ms/step - loss: 19613.3086 - mae: 19613.3086 - val_loss: 19611.4414 - val_mae: 19611.4414\n",
            "Epoch 2/50\n",
            "13/13 [==============================] - 0s 7ms/step - loss: 19603.0918 - mae: 19603.0918 - val_loss: 19576.3770 - val_mae: 19576.3770\n",
            "Epoch 3/50\n",
            "13/13 [==============================] - 0s 7ms/step - loss: 19428.7285 - mae: 19428.7285 - val_loss: 18944.5254 - val_mae: 18944.5254\n",
            "Epoch 4/50\n",
            "13/13 [==============================] - 0s 7ms/step - loss: 16295.4678 - mae: 16295.4678 - val_loss: 8448.6396 - val_mae: 8448.6396\n",
            "Epoch 5/50\n",
            "13/13 [==============================] - 0s 7ms/step - loss: 8546.8418 - mae: 8546.8418 - val_loss: 7183.9854 - val_mae: 7183.9854\n",
            "Epoch 6/50\n",
            "13/13 [==============================] - 0s 7ms/step - loss: 6834.4336 - mae: 6834.4336 - val_loss: 6425.3281 - val_mae: 6425.3281\n",
            "Epoch 7/50\n",
            "13/13 [==============================] - 0s 8ms/step - loss: 5844.2593 - mae: 5844.2593 - val_loss: 5295.3340 - val_mae: 5295.3340\n",
            "Epoch 8/50\n",
            "13/13 [==============================] - 0s 8ms/step - loss: 5174.5562 - mae: 5174.5562 - val_loss: 4980.0464 - val_mae: 4980.0464\n",
            "Epoch 9/50\n",
            "13/13 [==============================] - 0s 7ms/step - loss: 4924.8140 - mae: 4924.8140 - val_loss: 4849.9927 - val_mae: 4849.9927\n",
            "Epoch 10/50\n",
            "13/13 [==============================] - 0s 8ms/step - loss: 4893.5576 - mae: 4893.5576 - val_loss: 4897.0259 - val_mae: 4897.0259\n",
            "Epoch 11/50\n",
            "13/13 [==============================] - 0s 7ms/step - loss: 4816.1953 - mae: 4816.1953 - val_loss: 4687.3135 - val_mae: 4687.3135\n",
            "Epoch 12/50\n",
            "13/13 [==============================] - 0s 7ms/step - loss: 4841.1206 - mae: 4841.1206 - val_loss: 4842.4048 - val_mae: 4842.4048\n",
            "Epoch 13/50\n",
            "13/13 [==============================] - 0s 8ms/step - loss: 4718.5991 - mae: 4718.5991 - val_loss: 4692.8838 - val_mae: 4692.8838\n"
          ],
          "name": "stdout"
        },
        {
          "output_type": "execute_result",
          "data": {
            "text/plain": [
              "<tensorflow.python.keras.callbacks.History at 0x7f83b14c1ac8>"
            ]
          },
          "metadata": {
            "tags": []
          },
          "execution_count": 509
        }
      ]
    },
    {
      "cell_type": "markdown",
      "metadata": {
        "id": "uCZYIeJaiZVy"
      },
      "source": [
        "# View Training Logs"
      ]
    },
    {
      "cell_type": "code",
      "metadata": {
        "id": "yG2AxZsAcOPn"
      },
      "source": [
        "%load_ext tensorboard\n",
        "%tensorboard --logdir ./logs"
      ],
      "execution_count": null,
      "outputs": []
    },
    {
      "cell_type": "markdown",
      "metadata": {
        "id": "tqjm0I7LiayY"
      },
      "source": [
        "# Predict your own stuff"
      ]
    },
    {
      "cell_type": "code",
      "metadata": {
        "id": "JF0iklxtfCza",
        "outputId": "785af3d8-2299-469a-feda-580e6e2865e9",
        "colab": {
          "base_uri": "https://localhost:8080/",
          "height": 92
        }
      },
      "source": [
        "# inference\n",
        "\n",
        "input = {\n",
        "    'years_experience_xf': '1-3', # [4-5, 1-3, 11+, 6-10]\n",
        "    'company_size_xf': '11-50', # [11-50, <10, 501+, 51-100, 101-200, 201-500]\n",
        "    'remote_xf': 'Και τα δύο', # [Και τα δύο, Στον χώρο του εργοδότη, Απομακρυσμένα]\n",
        "    'supervisor_xf': 'Ναι', # [Όχι, Ναι]\n",
        "    'personal_projects_xf': 'Ναι' ,  #[Ναι, Όχι]\n",
        "    'sex_xf': 'Άντρας' , # [Άντρας, Γυναίκα]\n",
        "    'devtype_Backend': 1 ,              \n",
        "    'devtype_Desktopapps': 1 ,         \n",
        "    'devtype_DevOps': 0 ,            \n",
        "    'devtype_AI/ML': 1 ,              \n",
        "    'devtype_unk': 0 , # any devtype work that is not included above?       \n",
        "    'devtype_Frontend': 0 ,        \n",
        "    'devtype_Mobileapps': 0 ,           \n",
        "    'languages_C': 0 ,             \n",
        "    'languages_PHP': 0 ,             \n",
        "    'languages_JavaScript': 0 ,         \n",
        "    'languages_Kotlin' : 0 ,            \n",
        "    'languages_Python': 1 ,            \n",
        "    'languages_Ruby': 0 ,               \n",
        "    'languages_Bash': 1 ,             \n",
        "    'languages_Go': 0 ,             \n",
        "    'languages_Java': 0 ,            \n",
        "    'languages_Swift': 0 ,            \n",
        "    'languages_R': 0 ,            \n",
        "    'languages_Csharp': 1 ,         \n",
        "    'languages_VisualBasicNET': 0 ,    \n",
        "    'languages_Cpp': 0 , \n",
        "    'languages_unk': 0 # any language that is not used above ?                \n",
        "}\n",
        "\n",
        "input = {k: [v] for k, v in input.items()}\n",
        "\n",
        "prediction = model(input).numpy()[0][0]\n",
        "f'Βγάζεις: {prediction} ευρώ το χρόνο'"
      ],
      "execution_count": null,
      "outputs": [
        {
          "output_type": "stream",
          "text": [
            "WARNING:tensorflow:Layers in a Sequential model should only have a single input tensor, but we receive a <class 'dict'> input: {'years_experience_xf': ['1-3'], 'company_size_xf': ['11-50'], 'remote_xf': ['Και τα δύο'], 'supervisor_xf': ['Ναι'], 'personal_projects_xf': ['Ναι'], 'sex_xf': ['Άντρας'], 'devtype_Backend': [<tf.Tensor: shape=(), dtype=int32, numpy=1>], 'devtype_Desktopapps': [<tf.Tensor: shape=(), dtype=int32, numpy=1>], 'devtype_DevOps': [<tf.Tensor: shape=(), dtype=int32, numpy=0>], 'devtype_AI/ML': [<tf.Tensor: shape=(), dtype=int32, numpy=1>], 'devtype_unk': [<tf.Tensor: shape=(), dtype=int32, numpy=0>], 'devtype_Frontend': [<tf.Tensor: shape=(), dtype=int32, numpy=0>], 'devtype_Mobileapps': [<tf.Tensor: shape=(), dtype=int32, numpy=0>], 'languages_C': [<tf.Tensor: shape=(), dtype=int32, numpy=0>], 'languages_PHP': [<tf.Tensor: shape=(), dtype=int32, numpy=0>], 'languages_JavaScript': [<tf.Tensor: shape=(), dtype=int32, numpy=0>], 'languages_Kotlin': [<tf.Tensor: shape=(), dtype=int32, numpy=0>], 'languages_Python': [<tf.Tensor: shape=(), dtype=int32, numpy=1>], 'languages_Ruby': [<tf.Tensor: shape=(), dtype=int32, numpy=0>], 'languages_Bash': [<tf.Tensor: shape=(), dtype=int32, numpy=1>], 'languages_Go': [<tf.Tensor: shape=(), dtype=int32, numpy=0>], 'languages_Java': [<tf.Tensor: shape=(), dtype=int32, numpy=0>], 'languages_Swift': [<tf.Tensor: shape=(), dtype=int32, numpy=0>], 'languages_R': [<tf.Tensor: shape=(), dtype=int32, numpy=0>], 'languages_Csharp': [<tf.Tensor: shape=(), dtype=int32, numpy=1>], 'languages_VisualBasicNET': [<tf.Tensor: shape=(), dtype=int32, numpy=0>], 'languages_Cpp': [<tf.Tensor: shape=(), dtype=int32, numpy=0>], 'languages_unk': [<tf.Tensor: shape=(), dtype=int32, numpy=0>]}\n",
            "Consider rewriting this model with the Functional API.\n"
          ],
          "name": "stdout"
        },
        {
          "output_type": "execute_result",
          "data": {
            "application/vnd.google.colaboratory.intrinsic+json": {
              "type": "string"
            },
            "text/plain": [
              "'Βγάζεις: 19137.138671875 ευρώ το χρόνο'"
            ]
          },
          "metadata": {
            "tags": []
          },
          "execution_count": 512
        }
      ]
    }
  ]
}